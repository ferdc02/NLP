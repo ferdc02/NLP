{
 "cells": [
  {
   "cell_type": "markdown",
   "metadata": {},
   "source": [
    "#Script para automatizar jalar archivos desde carpeta text en CWD y guardar en Archivo .TXT"
   ]
  },
  {
   "cell_type": "markdown",
   "metadata": {},
   "source": [
    "from nltk.tokenize import sent_tokenize, word_tokenize\n",
    "\n",
    "import os\n",
    "import glob\n",
    "\n",
    "path = os.getcwd()+\"/Texts/\"\n",
    "OT= os.getcwd()+\"/Output_Text/TextOut.txt\"\n",
    "\n",
    "with open(OT,'w') as wf:\n",
    "    for filename in glob.glob(os.path.join(path, '*.txt')):\n",
    "        with open(filename,'r') as rf:\n",
    "    \n",
    "            f_content =rf.read()\n",
    "            #print(f_content)\n",
    "        \n",
    "            wf.write(f_content)\n",
    "   \n",
    "\n",
    "    \n",
    "\n",
    "\n"
   ]
  },
  {
   "cell_type": "code",
   "execution_count": 65,
   "metadata": {},
   "outputs": [],
   "source": [
    "import os\n",
    "import glob\n",
    "\n",
    "path = os.getcwd()+\"/Texts/\"\n",
    "OT= os.getcwd()+\"/Output_Text/TextOutB.txt\"\n",
    "\n",
    "def readFilenames ():\n",
    "    for filename in glob.glob(os.path.join(path, '*.txt')):\n",
    "        with open(filename,'r') as rf:\n",
    "    \n",
    "            f_content =rf.read()\n",
    "        \n",
    "            wf.write(f_content)\n",
    "            \n",
    "with open(OT,'w') as wf:\n",
    "    readFilenames()\n"
   ]
  },
  {
   "cell_type": "code",
   "execution_count": null,
   "metadata": {},
   "outputs": [],
   "source": []
  }
 ],
 "metadata": {
  "kernelspec": {
   "display_name": "Python 3",
   "language": "python",
   "name": "python3"
  },
  "language_info": {
   "codemirror_mode": {
    "name": "ipython",
    "version": 3
   },
   "file_extension": ".py",
   "mimetype": "text/x-python",
   "name": "python",
   "nbconvert_exporter": "python",
   "pygments_lexer": "ipython3",
   "version": "3.6.8"
  }
 },
 "nbformat": 4,
 "nbformat_minor": 2
}
